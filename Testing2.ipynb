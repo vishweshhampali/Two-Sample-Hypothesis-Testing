{
 "cells": [
  {
   "metadata": {},
   "cell_type": "markdown",
   "source": "# HYPOTHESIS TESTING",
   "id": "c18d169deb8098f2"
  },
  {
   "metadata": {},
   "cell_type": "markdown",
   "source": "In this notebook, we will explore hypothesis testing using employee data from the IBM HR Analytics dataset. The goal is to investigate whether there is a significant difference in monthly income between employees who left the company (attrition) and those who stayed.\n",
   "id": "391fa7ce2b2e90fc"
  },
  {
   "metadata": {},
   "cell_type": "markdown",
   "source": [
    "## Step 1: Import Libraries\n",
    "\n",
    "First, we import the necessary libraries: `pandas` for data manipulation, `numpy` for numerical operations, and `scipy.stats` for statistical functions.\n"
   ],
   "id": "12b5a6e01c1c0037"
  },
  {
   "cell_type": "code",
   "id": "initial_id",
   "metadata": {
    "collapsed": true,
    "ExecuteTime": {
     "end_time": "2024-09-22T07:43:29.519844Z",
     "start_time": "2024-09-22T07:43:29.512665Z"
    }
   },
   "source": [
    "import pandas as pd\n",
    "import numpy as np\n",
    "import scipy.stats as stats"
   ],
   "outputs": [],
   "execution_count": 17
  },
  {
   "metadata": {},
   "cell_type": "markdown",
   "source": [
    "## Step 2: Load and Preview the Data\n",
    "\n",
    "Next, we load the dataset, which contains information on employees' demographics, employment details, and whether they left the company or not (Attrition).\n"
   ],
   "id": "cdb185689b5fef27"
  },
  {
   "metadata": {
    "ExecuteTime": {
     "end_time": "2024-09-22T07:43:29.655121Z",
     "start_time": "2024-09-22T07:43:29.590071Z"
    }
   },
   "cell_type": "code",
   "source": [
    "df = pd.read_csv('D:\\HypothesisTesting\\pythonProject\\WA_Fn-UseC_-HR-Employee-Attrition.csv')\n",
    "\n",
    "df.head()"
   ],
   "id": "b056805747b802a0",
   "outputs": [
    {
     "data": {
      "text/plain": [
       "   Age Attrition     BusinessTravel  DailyRate              Department  \\\n",
       "0   41       Yes      Travel_Rarely       1102                   Sales   \n",
       "1   49        No  Travel_Frequently        279  Research & Development   \n",
       "2   37       Yes      Travel_Rarely       1373  Research & Development   \n",
       "3   33        No  Travel_Frequently       1392  Research & Development   \n",
       "4   27        No      Travel_Rarely        591  Research & Development   \n",
       "\n",
       "   DistanceFromHome  Education EducationField  EmployeeCount  EmployeeNumber  \\\n",
       "0                 1          2  Life Sciences              1               1   \n",
       "1                 8          1  Life Sciences              1               2   \n",
       "2                 2          2          Other              1               4   \n",
       "3                 3          4  Life Sciences              1               5   \n",
       "4                 2          1        Medical              1               7   \n",
       "\n",
       "   ...  RelationshipSatisfaction StandardHours  StockOptionLevel  \\\n",
       "0  ...                         1            80                 0   \n",
       "1  ...                         4            80                 1   \n",
       "2  ...                         2            80                 0   \n",
       "3  ...                         3            80                 0   \n",
       "4  ...                         4            80                 1   \n",
       "\n",
       "   TotalWorkingYears  TrainingTimesLastYear WorkLifeBalance  YearsAtCompany  \\\n",
       "0                  8                      0               1               6   \n",
       "1                 10                      3               3              10   \n",
       "2                  7                      3               3               0   \n",
       "3                  8                      3               3               8   \n",
       "4                  6                      3               3               2   \n",
       "\n",
       "  YearsInCurrentRole  YearsSinceLastPromotion  YearsWithCurrManager  \n",
       "0                  4                        0                     5  \n",
       "1                  7                        1                     7  \n",
       "2                  0                        0                     0  \n",
       "3                  7                        3                     0  \n",
       "4                  2                        2                     2  \n",
       "\n",
       "[5 rows x 35 columns]"
      ],
      "text/html": [
       "<div>\n",
       "<style scoped>\n",
       "    .dataframe tbody tr th:only-of-type {\n",
       "        vertical-align: middle;\n",
       "    }\n",
       "\n",
       "    .dataframe tbody tr th {\n",
       "        vertical-align: top;\n",
       "    }\n",
       "\n",
       "    .dataframe thead th {\n",
       "        text-align: right;\n",
       "    }\n",
       "</style>\n",
       "<table border=\"1\" class=\"dataframe\">\n",
       "  <thead>\n",
       "    <tr style=\"text-align: right;\">\n",
       "      <th></th>\n",
       "      <th>Age</th>\n",
       "      <th>Attrition</th>\n",
       "      <th>BusinessTravel</th>\n",
       "      <th>DailyRate</th>\n",
       "      <th>Department</th>\n",
       "      <th>DistanceFromHome</th>\n",
       "      <th>Education</th>\n",
       "      <th>EducationField</th>\n",
       "      <th>EmployeeCount</th>\n",
       "      <th>EmployeeNumber</th>\n",
       "      <th>...</th>\n",
       "      <th>RelationshipSatisfaction</th>\n",
       "      <th>StandardHours</th>\n",
       "      <th>StockOptionLevel</th>\n",
       "      <th>TotalWorkingYears</th>\n",
       "      <th>TrainingTimesLastYear</th>\n",
       "      <th>WorkLifeBalance</th>\n",
       "      <th>YearsAtCompany</th>\n",
       "      <th>YearsInCurrentRole</th>\n",
       "      <th>YearsSinceLastPromotion</th>\n",
       "      <th>YearsWithCurrManager</th>\n",
       "    </tr>\n",
       "  </thead>\n",
       "  <tbody>\n",
       "    <tr>\n",
       "      <th>0</th>\n",
       "      <td>41</td>\n",
       "      <td>Yes</td>\n",
       "      <td>Travel_Rarely</td>\n",
       "      <td>1102</td>\n",
       "      <td>Sales</td>\n",
       "      <td>1</td>\n",
       "      <td>2</td>\n",
       "      <td>Life Sciences</td>\n",
       "      <td>1</td>\n",
       "      <td>1</td>\n",
       "      <td>...</td>\n",
       "      <td>1</td>\n",
       "      <td>80</td>\n",
       "      <td>0</td>\n",
       "      <td>8</td>\n",
       "      <td>0</td>\n",
       "      <td>1</td>\n",
       "      <td>6</td>\n",
       "      <td>4</td>\n",
       "      <td>0</td>\n",
       "      <td>5</td>\n",
       "    </tr>\n",
       "    <tr>\n",
       "      <th>1</th>\n",
       "      <td>49</td>\n",
       "      <td>No</td>\n",
       "      <td>Travel_Frequently</td>\n",
       "      <td>279</td>\n",
       "      <td>Research &amp; Development</td>\n",
       "      <td>8</td>\n",
       "      <td>1</td>\n",
       "      <td>Life Sciences</td>\n",
       "      <td>1</td>\n",
       "      <td>2</td>\n",
       "      <td>...</td>\n",
       "      <td>4</td>\n",
       "      <td>80</td>\n",
       "      <td>1</td>\n",
       "      <td>10</td>\n",
       "      <td>3</td>\n",
       "      <td>3</td>\n",
       "      <td>10</td>\n",
       "      <td>7</td>\n",
       "      <td>1</td>\n",
       "      <td>7</td>\n",
       "    </tr>\n",
       "    <tr>\n",
       "      <th>2</th>\n",
       "      <td>37</td>\n",
       "      <td>Yes</td>\n",
       "      <td>Travel_Rarely</td>\n",
       "      <td>1373</td>\n",
       "      <td>Research &amp; Development</td>\n",
       "      <td>2</td>\n",
       "      <td>2</td>\n",
       "      <td>Other</td>\n",
       "      <td>1</td>\n",
       "      <td>4</td>\n",
       "      <td>...</td>\n",
       "      <td>2</td>\n",
       "      <td>80</td>\n",
       "      <td>0</td>\n",
       "      <td>7</td>\n",
       "      <td>3</td>\n",
       "      <td>3</td>\n",
       "      <td>0</td>\n",
       "      <td>0</td>\n",
       "      <td>0</td>\n",
       "      <td>0</td>\n",
       "    </tr>\n",
       "    <tr>\n",
       "      <th>3</th>\n",
       "      <td>33</td>\n",
       "      <td>No</td>\n",
       "      <td>Travel_Frequently</td>\n",
       "      <td>1392</td>\n",
       "      <td>Research &amp; Development</td>\n",
       "      <td>3</td>\n",
       "      <td>4</td>\n",
       "      <td>Life Sciences</td>\n",
       "      <td>1</td>\n",
       "      <td>5</td>\n",
       "      <td>...</td>\n",
       "      <td>3</td>\n",
       "      <td>80</td>\n",
       "      <td>0</td>\n",
       "      <td>8</td>\n",
       "      <td>3</td>\n",
       "      <td>3</td>\n",
       "      <td>8</td>\n",
       "      <td>7</td>\n",
       "      <td>3</td>\n",
       "      <td>0</td>\n",
       "    </tr>\n",
       "    <tr>\n",
       "      <th>4</th>\n",
       "      <td>27</td>\n",
       "      <td>No</td>\n",
       "      <td>Travel_Rarely</td>\n",
       "      <td>591</td>\n",
       "      <td>Research &amp; Development</td>\n",
       "      <td>2</td>\n",
       "      <td>1</td>\n",
       "      <td>Medical</td>\n",
       "      <td>1</td>\n",
       "      <td>7</td>\n",
       "      <td>...</td>\n",
       "      <td>4</td>\n",
       "      <td>80</td>\n",
       "      <td>1</td>\n",
       "      <td>6</td>\n",
       "      <td>3</td>\n",
       "      <td>3</td>\n",
       "      <td>2</td>\n",
       "      <td>2</td>\n",
       "      <td>2</td>\n",
       "      <td>2</td>\n",
       "    </tr>\n",
       "  </tbody>\n",
       "</table>\n",
       "<p>5 rows × 35 columns</p>\n",
       "</div>"
      ]
     },
     "execution_count": 18,
     "metadata": {},
     "output_type": "execute_result"
    }
   ],
   "execution_count": 18
  },
  {
   "metadata": {},
   "cell_type": "markdown",
   "source": [
    "## Step 3: Data Preprocessing\n",
    "\n",
    "Here we prepare the data for the hypothesis test. We filter out the monthly income of employees who left (Attrition = 'Yes') and those who stayed (Attrition = 'No').\n"
   ],
   "id": "e683b8c86f5984f"
  },
  {
   "metadata": {
    "ExecuteTime": {
     "end_time": "2024-09-22T07:43:29.663054Z",
     "start_time": "2024-09-22T07:43:29.657563Z"
    }
   },
   "cell_type": "code",
   "source": "df = df[['Attrition','MonthlyIncome']]",
   "id": "9036fcec375b42f2",
   "outputs": [],
   "execution_count": 19
  },
  {
   "metadata": {
    "ExecuteTime": {
     "end_time": "2024-09-22T07:43:29.674863Z",
     "start_time": "2024-09-22T07:43:29.665393Z"
    }
   },
   "cell_type": "code",
   "source": "df.head()",
   "id": "155e63dea251c735",
   "outputs": [
    {
     "data": {
      "text/plain": [
       "  Attrition  MonthlyIncome\n",
       "0       Yes           5993\n",
       "1        No           5130\n",
       "2       Yes           2090\n",
       "3        No           2909\n",
       "4        No           3468"
      ],
      "text/html": [
       "<div>\n",
       "<style scoped>\n",
       "    .dataframe tbody tr th:only-of-type {\n",
       "        vertical-align: middle;\n",
       "    }\n",
       "\n",
       "    .dataframe tbody tr th {\n",
       "        vertical-align: top;\n",
       "    }\n",
       "\n",
       "    .dataframe thead th {\n",
       "        text-align: right;\n",
       "    }\n",
       "</style>\n",
       "<table border=\"1\" class=\"dataframe\">\n",
       "  <thead>\n",
       "    <tr style=\"text-align: right;\">\n",
       "      <th></th>\n",
       "      <th>Attrition</th>\n",
       "      <th>MonthlyIncome</th>\n",
       "    </tr>\n",
       "  </thead>\n",
       "  <tbody>\n",
       "    <tr>\n",
       "      <th>0</th>\n",
       "      <td>Yes</td>\n",
       "      <td>5993</td>\n",
       "    </tr>\n",
       "    <tr>\n",
       "      <th>1</th>\n",
       "      <td>No</td>\n",
       "      <td>5130</td>\n",
       "    </tr>\n",
       "    <tr>\n",
       "      <th>2</th>\n",
       "      <td>Yes</td>\n",
       "      <td>2090</td>\n",
       "    </tr>\n",
       "    <tr>\n",
       "      <th>3</th>\n",
       "      <td>No</td>\n",
       "      <td>2909</td>\n",
       "    </tr>\n",
       "    <tr>\n",
       "      <th>4</th>\n",
       "      <td>No</td>\n",
       "      <td>3468</td>\n",
       "    </tr>\n",
       "  </tbody>\n",
       "</table>\n",
       "</div>"
      ]
     },
     "execution_count": 20,
     "metadata": {},
     "output_type": "execute_result"
    }
   ],
   "execution_count": 20
  },
  {
   "metadata": {
    "ExecuteTime": {
     "end_time": "2024-09-22T07:43:29.691163Z",
     "start_time": "2024-09-22T07:43:29.681568Z"
    }
   },
   "cell_type": "code",
   "source": [
    "# Filter the data for 'Attrition' and 'MonthlyIncome'\n",
    "attrition_income = df[df['Attrition'] == 'Yes']['MonthlyIncome']\n",
    "non_attrition_income = df[df['Attrition'] == 'No']['MonthlyIncome']"
   ],
   "id": "e540de4bf3760b6a",
   "outputs": [],
   "execution_count": 21
  },
  {
   "metadata": {},
   "cell_type": "markdown",
   "source": [
    "## Step 4: Conduct a Z-Test\n",
    "\n",
    "We use a Z-test to compare the means of two independent groups: employees who left and those who stayed. The test will help us determine whether the observed difference in average monthly income is statistically significant.\n"
   ],
   "id": "4931ce2e1e83c3b2"
  },
  {
   "metadata": {
    "ExecuteTime": {
     "end_time": "2024-09-22T07:43:29.725436Z",
     "start_time": "2024-09-22T07:43:29.716193Z"
    }
   },
   "cell_type": "code",
   "source": [
    "# Calculate descriptive statistics\n",
    "mean_attrition = np.mean(attrition_income)\n",
    "mean_non_attrition = np.mean(non_attrition_income)\n",
    "std_attrition = np.std(attrition_income, ddof=1)  # sample standard deviation\n",
    "std_non_attrition = np.std(non_attrition_income, ddof=1)\n",
    "n_attrition = len(attrition_income)\n",
    "n_non_attrition = len(non_attrition_income)"
   ],
   "id": "e8ad80941f9b5f0a",
   "outputs": [],
   "execution_count": 22
  },
  {
   "metadata": {
    "ExecuteTime": {
     "end_time": "2024-09-22T07:43:29.782153Z",
     "start_time": "2024-09-22T07:43:29.776635Z"
    }
   },
   "cell_type": "code",
   "source": [
    "# Z-Score calculation\n",
    "z_score = (mean_attrition - mean_non_attrition) / np.sqrt((std_attrition**2 / n_attrition) + (std_non_attrition**2 / n_non_attrition))\n",
    "\n",
    "# Critical Z-value for 95% confidence (two-tailed test)\n",
    "z_critical = stats.norm.ppf(1 - 0.025)\n",
    "\n"
   ],
   "id": "d3f06a1d524c6d77",
   "outputs": [],
   "execution_count": 23
  },
  {
   "metadata": {},
   "cell_type": "markdown",
   "source": [
    "## Conclusion\n",
    "\n",
    "Based on the Z-test results, if the p-value is less than the significance level (alpha = 0.05), we reject the null hypothesis, concluding that there is a statistically significant difference in monthly income between employees who left and those who stayed.\n"
   ],
   "id": "2ffbb720d6d31372"
  },
  {
   "metadata": {
    "ExecuteTime": {
     "end_time": "2024-09-22T07:43:29.897200Z",
     "start_time": "2024-09-22T07:43:29.890766Z"
    }
   },
   "cell_type": "code",
   "source": [
    "\n",
    "# Decision\n",
    "if np.abs(z_score) > z_critical:\n",
    "    print(\"Reject the null hypothesis: There is a significant difference in monthly income between employees who left and those who stayed.\")\n",
    "else:\n",
    "    print(\"Fail to reject the null hypothesis: There is no significant difference in monthly income between employees who left and those who stayed.\")\n",
    "\n",
    "print(f\"Z-Score: {z_score}, Z-Critical: {z_critical}\")"
   ],
   "id": "d329524c0bc6dfea",
   "outputs": [
    {
     "name": "stdout",
     "output_type": "stream",
     "text": [
      "Reject the null hypothesis: There is a significant difference in monthly income between employees who left and those who stayed.\n",
      "Z-Score: -7.482621586644742, Z-Critical: 1.959963984540054\n"
     ]
    }
   ],
   "execution_count": 24
  },
  {
   "metadata": {
    "ExecuteTime": {
     "end_time": "2024-09-22T07:43:30.076938Z",
     "start_time": "2024-09-22T07:43:30.064723Z"
    }
   },
   "cell_type": "code",
   "source": [
    "from statsmodels.stats.weightstats import ztest\n",
    "\n",
    "# Here we're comparing the mean of two independent samples\n",
    "z_score, p_value = ztest(attrition_income, non_attrition_income, usevar='unequal')\n",
    "\n",
    "# Set significance level (alpha) and confidence level\n",
    "alpha = 0.05  # for 95% confidence level\n",
    "\n",
    "# Print Z-score and p-value\n",
    "print(f\"Z-Score: {z_score}\")\n",
    "print(f\"P-Value: {p_value}\")\n",
    "\n",
    "# Decision rule\n",
    "if p_value < alpha:\n",
    "    print(\"Reject the null hypothesis: There is a significant difference in monthly income between employees who left and those who stayed.\")\n",
    "else:\n",
    "    print(\"Fail to reject the null hypothesis: There is no significant difference in monthly income between employees who left and those who stayed.\")"
   ],
   "id": "fbbefa890f136a32",
   "outputs": [
    {
     "name": "stdout",
     "output_type": "stream",
     "text": [
      "Z-Score: -7.482621586644742\n",
      "P-Value: 7.28544370143024e-14\n",
      "Reject the null hypothesis: There is a significant difference in monthly income between employees who left and those who stayed.\n"
     ]
    }
   ],
   "execution_count": 25
  },
  {
   "metadata": {
    "ExecuteTime": {
     "end_time": "2024-09-22T07:43:30.114048Z",
     "start_time": "2024-09-22T07:43:30.109925Z"
    }
   },
   "cell_type": "code",
   "source": "",
   "id": "eef62321326d98df",
   "outputs": [],
   "execution_count": 25
  }
 ],
 "metadata": {
  "kernelspec": {
   "display_name": "Python 3",
   "language": "python",
   "name": "python3"
  },
  "language_info": {
   "codemirror_mode": {
    "name": "ipython",
    "version": 2
   },
   "file_extension": ".py",
   "mimetype": "text/x-python",
   "name": "python",
   "nbconvert_exporter": "python",
   "pygments_lexer": "ipython2",
   "version": "2.7.6"
  }
 },
 "nbformat": 4,
 "nbformat_minor": 5
}
